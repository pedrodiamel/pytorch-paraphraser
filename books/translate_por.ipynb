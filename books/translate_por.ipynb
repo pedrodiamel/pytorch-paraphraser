{
 "cells": [
  {
   "cell_type": "code",
   "execution_count": null,
   "metadata": {
    "collapsed": true
   },
   "outputs": [],
   "source": []
  },
  {
   "cell_type": "markdown",
   "metadata": {},
   "source": [
    "# Translate english command to portugues\n",
    "- http://www.manythings.org/anki/\n",
    "- https://tatoeba.org/\n"
   ]
  },
  {
   "cell_type": "code",
   "execution_count": 39,
   "metadata": {
    "collapsed": true
   },
   "outputs": [],
   "source": []
  },
  {
   "cell_type": "code",
   "execution_count": 2,
   "metadata": {},
   "outputs": [],
   "source": [
    "from __future__ import unicode_literals, print_function, division\n",
    "from io import open\n",
    "import unicodedata\n",
    "import string\n",
    "import re\n",
    "import random\n",
    "\n",
    "import torch\n",
    "import torch.nn as nn\n",
    "from torch import optim\n",
    "import torch.nn.functional as F\n",
    "\n",
    "device = torch.device(\"cuda\" if torch.cuda.is_available() else \"cpu\")\n",
    "%matplotlib inline"
   ]
  },
  {
   "cell_type": "code",
   "execution_count": 3,
   "metadata": {},
<<<<<<< HEAD
=======
   "outputs": [
    {
     "data": {
      "text/plain": [
       "device(type='cuda')"
      ]
     },
     "execution_count": 3,
     "metadata": {},
     "output_type": "execute_result"
    }
   ],
   "source": [
    "device"
   ]
  },
  {
   "cell_type": "code",
   "execution_count": 4,
   "metadata": {
    "collapsed": true
   },
>>>>>>> c21acb6aa6617ae463d5a3960c221ba114356015
   "outputs": [],
   "source": [
    "SOS_token = 0\n",
    "EOS_token = 1\n",
    "\n",
    "class Lang:\n",
    "    def __init__(self, name):\n",
    "        self.name = name\n",
    "        self.word2index = {}\n",
    "        self.word2count = {}\n",
    "        self.index2word = {0: \"SOS\", 1: \"EOS\"}\n",
    "        self.n_words = 2  # Count SOS and EOS\n",
    "\n",
    "    def addSentence(self, sentence):\n",
    "        for word in sentence.split(' '):\n",
    "            self.addWord(word)\n",
    "\n",
    "    def addWord(self, word):\n",
    "        if word not in self.word2index:\n",
    "            self.word2index[word] = self.n_words\n",
    "            self.word2count[word] = 1\n",
    "            self.index2word[self.n_words] = word\n",
    "            self.n_words += 1\n",
    "        else:\n",
    "            self.word2count[word] += 1"
   ]
  },
  {
   "cell_type": "code",
<<<<<<< HEAD
   "execution_count": 4,
   "metadata": {},
=======
   "execution_count": 5,
   "metadata": {
    "collapsed": true
   },
>>>>>>> c21acb6aa6617ae463d5a3960c221ba114356015
   "outputs": [],
   "source": [
    "# Turn a Unicode string to plain ASCII, thanks to\n",
    "# http://stackoverflow.com/a/518232/2809427\n",
    "def unicodeToAscii(s):\n",
    "    return ''.join(\n",
    "        c for c in unicodedata.normalize('NFD', s)\n",
    "        if unicodedata.category(c) != 'Mn'\n",
    "    )\n",
    "\n",
    "# Lowercase, trim, and remove non-letter characters\n",
    "\n",
    "def normalizeString(s):\n",
    "    s = unicodeToAscii(s.lower().strip())\n",
    "    s = re.sub(r\"([.!?])\", r\" \\1\", s)\n",
    "    s = re.sub(r\"[^a-zA-Z.!?]+\", r\" \", s)\n",
    "    return s"
   ]
  },
  {
   "cell_type": "code",
<<<<<<< HEAD
   "execution_count": 5,
   "metadata": {},
=======
   "execution_count": 6,
   "metadata": {
    "collapsed": true
   },
>>>>>>> c21acb6aa6617ae463d5a3960c221ba114356015
   "outputs": [],
   "source": [
    "def readLangs(lang1, lang2, reverse=False):\n",
    "    print(\"Reading lines...\")\n",
    "\n",
    "    # Read the file and split into lines\n",
    "    lines = open('../rec/data/%s-%s.txt' % (lang1, lang2), encoding='utf-8').\\\n",
    "        read().strip().split('\\n')\n",
    "\n",
    "    # Split every line into pairs and normalize\n",
    "    pairs = [[normalizeString(s) for s in l.split('\\t')] for l in lines]\n",
    "\n",
    "    # Reverse pairs, make Lang instances\n",
    "    if reverse:\n",
    "        pairs = [list(reversed(p)) for p in pairs]\n",
    "        input_lang = Lang(lang2)\n",
    "        output_lang = Lang(lang1)\n",
    "    else:\n",
    "        input_lang = Lang(lang1)\n",
    "        output_lang = Lang(lang2)\n",
    "\n",
    "    return input_lang, output_lang, pairs\n"
   ]
  },
  {
   "cell_type": "code",
<<<<<<< HEAD
   "execution_count": 6,
   "metadata": {},
=======
   "execution_count": 7,
   "metadata": {
    "collapsed": true
   },
>>>>>>> c21acb6aa6617ae463d5a3960c221ba114356015
   "outputs": [],
   "source": [
    "MAX_LENGTH = 10\n",
    "\n",
    "eng_prefixes = (\n",
    "    \"i am \", \"i m \",\n",
    "    \"he is\", \"he s \",\n",
    "    \"she is\", \"she s\",\n",
    "    \"you are\", \"you re \",\n",
    "    \"we are\", \"we re \",\n",
    "    \"they are\", \"they re \"\n",
    ")\n",
    "\n",
    "\n",
    "def filterPair(p):\n",
    "    return len(p[0].split(' ')) < MAX_LENGTH and \\\n",
    "        len(p[1].split(' ')) < MAX_LENGTH \n",
    "        #and \\\n",
    "        #p[1].startswith(eng_prefixes)\n",
    "\n",
    "\n",
    "def filterPairs(pairs):\n",
    "    return [pair for pair in pairs if filterPair(pair)]"
   ]
  },
  {
   "cell_type": "code",
<<<<<<< HEAD
   "execution_count": 7,
   "metadata": {},
=======
   "execution_count": 8,
   "metadata": {
    "collapsed": false
   },
>>>>>>> c21acb6aa6617ae463d5a3960c221ba114356015
   "outputs": [
    {
     "name": "stdout",
     "output_type": "stream",
     "text": [
      "Reading lines...\n",
      "Read 135671 sentence pairs\n",
      "Trimmed to 111526 sentence pairs\n",
      "Counting words...\n",
      "Counted words:\n",
<<<<<<< HEAD
      "eng 9939\n",
      "por 16366\n",
      "['whose clock is it ?', 'de quem e este relogio ?']\n"
=======
      "eng 9971\n",
      "por 16415\n",
      "['he confessed that he was guilty .', 'ele confessou que era culpado .']\n"
>>>>>>> c21acb6aa6617ae463d5a3960c221ba114356015
     ]
    }
   ],
   "source": [
    "def prepareData(lang1, lang2, reverse=False):\n",
    "    input_lang, output_lang, pairs = readLangs(lang1, lang2, reverse)\n",
    "    print(\"Read %s sentence pairs\" % len(pairs))\n",
    "    pairs = filterPairs(pairs)\n",
    "    print(\"Trimmed to %s sentence pairs\" % len(pairs))\n",
    "    print(\"Counting words...\")\n",
    "    for pair in pairs:\n",
    "        input_lang.addSentence(pair[0])\n",
    "        output_lang.addSentence(pair[1])\n",
    "    print(\"Counted words:\")\n",
    "    print(input_lang.name, input_lang.n_words)\n",
    "    print(output_lang.name, output_lang.n_words)\n",
    "    return input_lang, output_lang, pairs\n",
    "\n",
    "\n",
    "input_lang, output_lang, pairs = prepareData('eng', 'por', False)\n",
    "print(random.choice(pairs))"
   ]
  },
  {
   "cell_type": "code",
   "execution_count": null,
   "metadata": {},
   "outputs": [],
   "source": []
  },
  {
   "cell_type": "markdown",
   "metadata": {},
   "source": [
    "# Model"
   ]
  },
  {
   "cell_type": "markdown",
   "metadata": {},
   "source": [
    "## The Encoder"
   ]
  },
  {
   "cell_type": "code",
   "execution_count": 9,
   "metadata": {
    "collapsed": true
   },
   "outputs": [],
   "source": [
    "class EncoderRNN(nn.Module):\n",
    "    def __init__(self, input_size, hidden_size):\n",
    "        super(EncoderRNN, self).__init__()\n",
    "        self.hidden_size = hidden_size\n",
    "\n",
    "        self.embedding = nn.Embedding(input_size, hidden_size)\n",
    "        self.gru = nn.GRU(hidden_size, hidden_size)\n",
    "\n",
    "    def forward(self, input, hidden):\n",
    "        embedded = self.embedding(input).view(1, 1, -1)\n",
    "        output = embedded\n",
    "        output, hidden = self.gru(output, hidden)\n",
    "        return output, hidden\n",
    "\n",
    "    def initHidden(self):\n",
    "        return torch.zeros(1, 1, self.hidden_size, device=device)"
   ]
  },
  {
   "cell_type": "markdown",
   "metadata": {},
   "source": [
    "## The Decoder"
   ]
  },
  {
   "cell_type": "code",
   "execution_count": 10,
   "metadata": {
    "collapsed": true
   },
   "outputs": [],
   "source": [
    "class DecoderRNN(nn.Module):\n",
    "    def __init__(self, hidden_size, output_size):\n",
    "        super(DecoderRNN, self).__init__()\n",
    "        self.hidden_size = hidden_size\n",
    "\n",
    "        self.embedding = nn.Embedding(output_size, hidden_size)\n",
    "        self.gru = nn.GRU(hidden_size, hidden_size)\n",
    "        self.out = nn.Linear(hidden_size, output_size)\n",
    "        self.softmax = nn.LogSoftmax(dim=1)\n",
    "\n",
    "    def forward(self, input, hidden):\n",
    "        output = self.embedding(input).view(1, 1, -1)\n",
    "        output = F.relu(output)\n",
    "        output, hidden = self.gru(output, hidden)\n",
    "        output = self.softmax(self.out(output[0]))\n",
    "        return output, hidden\n",
    "\n",
    "    def initHidden(self):\n",
    "        return torch.zeros(1, 1, self.hidden_size, device=device)"
   ]
  },
  {
   "cell_type": "markdown",
   "metadata": {},
   "source": [
    "## The Attention Decoder"
   ]
  },
  {
   "cell_type": "code",
   "execution_count": 11,
   "metadata": {
    "collapsed": true
   },
   "outputs": [],
   "source": [
    "class AttnDecoderRNN(nn.Module):\n",
    "    def __init__(self, hidden_size, output_size, dropout_p=0.1, max_length=MAX_LENGTH):\n",
    "        super(AttnDecoderRNN, self).__init__()\n",
    "        self.hidden_size = hidden_size\n",
    "        self.output_size = output_size\n",
    "        self.dropout_p = dropout_p\n",
    "        self.max_length = max_length\n",
    "\n",
    "        self.embedding = nn.Embedding(self.output_size, self.hidden_size)\n",
    "        self.attn = nn.Linear(self.hidden_size * 2, self.max_length)\n",
    "        self.attn_combine = nn.Linear(self.hidden_size * 2, self.hidden_size)\n",
    "        self.dropout = nn.Dropout(self.dropout_p)\n",
    "        self.gru = nn.GRU(self.hidden_size, self.hidden_size)\n",
    "        self.out = nn.Linear(self.hidden_size, self.output_size)\n",
    "\n",
    "    def forward(self, input, hidden, encoder_outputs):\n",
    "        embedded = self.embedding(input).view(1, 1, -1)\n",
    "        embedded = self.dropout(embedded)\n",
    "\n",
    "        attn_weights = F.softmax(self.attn(torch.cat((embedded[0], hidden[0]), 1)), dim=1)\n",
    "        attn_applied = torch.bmm(attn_weights.unsqueeze(0),encoder_outputs.unsqueeze(0))\n",
    "\n",
    "        output = torch.cat((embedded[0], attn_applied[0]), 1)\n",
    "        output = self.attn_combine(output).unsqueeze(0)\n",
    "\n",
    "        output = F.relu(output)\n",
    "        output, hidden = self.gru(output, hidden)\n",
    "\n",
    "        output = F.log_softmax(self.out(output[0]), dim=1)\n",
    "        return output, hidden, attn_weights\n",
    "\n",
    "    def initHidden(self):\n",
    "        return torch.zeros(1, 1, self.hidden_size, device=device)"
   ]
  },
  {
   "cell_type": "code",
   "execution_count": null,
   "metadata": {
    "collapsed": true
   },
   "outputs": [],
   "source": []
  },
  {
   "cell_type": "code",
   "execution_count": 12,
   "metadata": {
    "collapsed": true
   },
   "outputs": [],
   "source": [
    "def indexesFromSentence(lang, sentence):\n",
    "    return [lang.word2index[word] for word in sentence.split(' ')]\n",
    "\n",
    "def tensorFromSentence(lang, sentence):\n",
    "    indexes = indexesFromSentence(lang, sentence)\n",
    "    indexes.append(EOS_token)\n",
    "    return torch.tensor(indexes, dtype=torch.long, device=device).view(-1, 1)\n",
    "\n",
    "def tensorsFromPair(pair):\n",
    "    input_tensor = tensorFromSentence(input_lang, pair[0])\n",
    "    target_tensor = tensorFromSentence(output_lang, pair[1])\n",
    "    return (input_tensor, target_tensor)\n"
   ]
  },
  {
   "cell_type": "code",
   "execution_count": null,
   "metadata": {
    "collapsed": true
   },
   "outputs": [],
   "source": []
  },
  {
   "cell_type": "code",
   "execution_count": 13,
   "metadata": {
    "collapsed": true
   },
   "outputs": [],
   "source": [
    "teacher_forcing_ratio = 0.5\n",
    "\n",
    "\n",
    "def train(\n",
    "    input_tensor, \n",
    "    target_tensor, \n",
    "    encoder, \n",
    "    decoder, \n",
    "    encoder_optimizer, \n",
    "    decoder_optimizer, \n",
    "    criterion, \n",
    "    max_length=MAX_LENGTH\n",
    "    ):\n",
    "    \n",
    "    encoder_hidden = encoder.initHidden()\n",
    "\n",
    "    encoder_optimizer.zero_grad()\n",
    "    decoder_optimizer.zero_grad()\n",
    "\n",
    "    input_length  = input_tensor.size(0)\n",
    "    target_length = target_tensor.size(0)\n",
    "\n",
    "    encoder_outputs = torch.zeros(max_length, encoder.hidden_size, device=device)\n",
    "\n",
    "    loss = 0\n",
    "\n",
    "    for ei in range(input_length):\n",
    "        encoder_output, encoder_hidden = encoder(input_tensor[ei], encoder_hidden)\n",
    "        encoder_outputs[ei] = encoder_output[0, 0]\n",
    "\n",
    "    decoder_input = torch.tensor([[SOS_token]], device=device)\n",
    "\n",
    "    decoder_hidden = encoder_hidden\n",
    "\n",
    "    use_teacher_forcing = True if random.random() < teacher_forcing_ratio else False\n",
    "\n",
    "    if use_teacher_forcing:\n",
    "        # Teacher forcing: Feed the target as the next input\n",
    "        for di in range(target_length):\n",
    "            decoder_output, decoder_hidden, decoder_attention = decoder(decoder_input, decoder_hidden, encoder_outputs)\n",
    "            loss += criterion(decoder_output, target_tensor[di])\n",
    "            decoder_input = target_tensor[di]  # Teacher forcing\n",
    "\n",
    "    else:\n",
    "        # Without teacher forcing: use its own predictions as the next input\n",
    "        for di in range(target_length):\n",
    "            decoder_output, decoder_hidden, decoder_attention = decoder(decoder_input, decoder_hidden, encoder_outputs)\n",
    "            topv, topi = decoder_output.topk(1)\n",
    "            decoder_input = topi.squeeze().detach()  # detach from history as input\n",
    "\n",
    "            loss += criterion(decoder_output, target_tensor[di])\n",
    "            if decoder_input.item() == EOS_token:\n",
    "                break\n",
    "\n",
    "    loss.backward()\n",
    "\n",
    "    encoder_optimizer.step()\n",
    "    decoder_optimizer.step()\n",
    "\n",
    "    return loss.item() / target_length"
   ]
  },
  {
   "cell_type": "code",
   "execution_count": 14,
   "metadata": {
    "collapsed": true
   },
   "outputs": [],
   "source": [
    "import time\n",
    "import math\n",
    "\n",
    "\n",
    "def asMinutes(s):\n",
    "    m = math.floor(s / 60)\n",
    "    s -= m * 60\n",
    "    return '%dm %ds' % (m, s)\n",
    "\n",
    "\n",
    "def timeSince(since, percent):\n",
    "    now = time.time()\n",
    "    s = now - since\n",
    "    es = s / (percent)\n",
    "    rs = es - s\n",
    "    return '%s (- %s)' % (asMinutes(s), asMinutes(rs))\n"
   ]
  },
  {
   "cell_type": "code",
   "execution_count": 23,
   "metadata": {
    "collapsed": true
   },
   "outputs": [],
   "source": [
    "def trainIters(\n",
    "    encoder, \n",
    "    decoder, \n",
    "    n_iters, \n",
    "    print_every=1000, \n",
    "    plot_every=100, \n",
    "    learning_rate=0.01\n",
    "    ):\n",
    "       \n",
    "\n",
    "    start = time.time()\n",
    "    plot_losses = []\n",
    "    print_loss_total = 0  # Reset every print_every\n",
    "    plot_loss_total = 0  # Reset every plot_every\n",
    "\n",
    "    encoder_optimizer = optim.SGD(encoder.parameters(), lr=learning_rate)\n",
    "    decoder_optimizer = optim.SGD(decoder.parameters(), lr=learning_rate)\n",
    "    training_pairs = [tensorsFromPair(random.choice(pairs)) for i in range(n_iters)]\n",
    "    criterion = nn.NLLLoss()\n",
    "\n",
    "    for iter in range(1, n_iters + 1):\n",
    "        training_pair = training_pairs[iter - 1]\n",
    "        input_tensor = training_pair[0]\n",
    "        target_tensor = training_pair[1]\n",
    "\n",
    "        loss = train(input_tensor, \n",
    "                     target_tensor, \n",
    "                     encoder,\n",
    "                     decoder, \n",
    "                     encoder_optimizer, \n",
    "                     decoder_optimizer, \n",
    "                     criterion)\n",
    "        \n",
    "        print_loss_total += loss\n",
    "        plot_loss_total += loss\n",
    "\n",
    "        if iter % print_every == 0:\n",
    "            print_loss_avg = print_loss_total / print_every\n",
    "            print_loss_total = 0\n",
    "            print('%s (%d %d%%) %.4f' % (timeSince(start, iter / n_iters),\n",
    "                                         iter, iter / n_iters * 100, print_loss_avg))\n",
    "\n",
    "        if iter % plot_every == 0:\n",
    "            plot_loss_avg = plot_loss_total / plot_every\n",
    "            plot_losses.append(plot_loss_avg)\n",
    "            plot_loss_total = 0\n",
    "\n",
    "    showPlot(plot_losses)\n",
    "    return plot_losses\n",
    "    "
   ]
  },
  {
   "cell_type": "code",
   "execution_count": 42,
   "metadata": {
    "collapsed": true
   },
   "outputs": [],
   "source": [
    "import matplotlib.pyplot as plt\n",
    "plt.switch_backend('agg')\n",
    "import matplotlib.ticker as ticker\n",
    "import numpy as np\n",
    "\n",
    "\n",
    "def showPlot(points):\n",
    "    plt.figure()\n",
    "    fig, ax = plt.subplots()\n",
    "    # this locator puts ticks at regular intervals\n",
    "    loc = ticker.MultipleLocator(base=0.2)\n",
    "    ax.yaxis.set_major_locator(loc)\n",
    "    plt.plot(points)\n",
    "    plt.show()\n",
    "\n",
    "   "
   ]
  },
  {
   "cell_type": "code",
   "execution_count": null,
   "metadata": {
    "collapsed": true
   },
   "outputs": [],
   "source": []
  },
  {
   "cell_type": "markdown",
   "metadata": {},
   "source": [
    "## Evaluate"
   ]
  },
  {
   "cell_type": "code",
   "execution_count": 17,
   "metadata": {
    "collapsed": true
   },
   "outputs": [],
   "source": [
    "def evaluate(\n",
    "    encoder, \n",
    "    decoder, \n",
    "    sentence, \n",
    "    max_length=MAX_LENGTH):\n",
    "    \n",
    "    \n",
    "    with torch.no_grad():\n",
    "        input_tensor = tensorFromSentence(input_lang, sentence)\n",
    "        input_length = input_tensor.size()[0]\n",
    "        encoder_hidden = encoder.initHidden()\n",
    "\n",
    "        encoder_outputs = torch.zeros(max_length, encoder.hidden_size, device=device)\n",
    "\n",
    "        for ei in range(input_length):\n",
    "            encoder_output, encoder_hidden = encoder(input_tensor[ei], encoder_hidden)\n",
    "            encoder_outputs[ei] += encoder_output[0, 0]\n",
    "\n",
    "        decoder_input = torch.tensor([[SOS_token]], device=device)  # SOS\n",
    "        decoder_hidden = encoder_hidden\n",
    "\n",
    "        decoded_words = []\n",
    "        decoder_attentions = torch.zeros(max_length, max_length)\n",
    "\n",
    "        for di in range(max_length):\n",
    "            decoder_output, decoder_hidden, decoder_attention = decoder(decoder_input, decoder_hidden, encoder_outputs)\n",
    "            decoder_attentions[di] = decoder_attention.data\n",
    "            topv, topi = decoder_output.data.topk(1)\n",
    "            if topi.item() == EOS_token:\n",
    "                decoded_words.append('<EOS>')\n",
    "                break\n",
    "            else:\n",
    "                decoded_words.append(output_lang.index2word[topi.item()])\n",
    "\n",
    "            decoder_input = topi.squeeze().detach()\n",
    "\n",
    "        return decoded_words, decoder_attentions[:di + 1]\n"
   ]
  },
  {
   "cell_type": "code",
   "execution_count": 18,
   "metadata": {
    "collapsed": true
   },
   "outputs": [],
   "source": [
    "def evaluateRandomly(encoder, decoder, n=10):\n",
    "    for i in range(n):\n",
    "        pair = random.choice(pairs)\n",
    "        print('>', pair[0])\n",
    "        print('=', pair[1])\n",
    "        output_words, attentions = evaluate(encoder, decoder, pair[0])\n",
    "        output_sentence = ' '.join(output_words)\n",
    "        print('<', output_sentence)\n",
    "        print('')"
   ]
  },
  {
   "cell_type": "code",
   "execution_count": null,
   "metadata": {
    "collapsed": true
   },
   "outputs": [],
   "source": []
  },
  {
   "cell_type": "markdown",
   "metadata": {},
   "source": [
    "## Training and Evaluating"
   ]
  },
  {
   "cell_type": "code",
<<<<<<< HEAD
   "execution_count": 25,
   "metadata": {},
=======
   "execution_count": 58,
   "metadata": {
    "collapsed": false
   },
>>>>>>> c21acb6aa6617ae463d5a3960c221ba114356015
   "outputs": [
    {
     "name": "stdout",
     "output_type": "stream",
     "text": [
      "1m 29s (- 20m 57s) (5000 6%) 1.9220\n",
      "2m 53s (- 18m 50s) (10000 13%) 1.9311\n",
      "4m 15s (- 17m 0s) (15000 20%) 1.9609\n",
      "5m 36s (- 15m 24s) (20000 26%) 1.9714\n",
      "6m 55s (- 13m 50s) (25000 33%) 1.9634\n",
      "8m 15s (- 12m 22s) (30000 40%) 1.9380\n",
      "9m 30s (- 10m 52s) (35000 46%) 1.9637\n",
      "10m 53s (- 9m 32s) (40000 53%) 1.9667\n",
      "12m 16s (- 8m 10s) (45000 60%) 2.2099\n",
      "13m 36s (- 6m 48s) (50000 66%) 2.3359\n",
      "14m 55s (- 5m 25s) (55000 73%) 2.4306\n",
      "16m 12s (- 4m 3s) (60000 80%) 2.7378\n",
      "17m 40s (- 2m 43s) (65000 86%) 2.7386\n",
      "18m 57s (- 1m 21s) (70000 93%) 2.6965\n",
      "20m 12s (- 0m 0s) (75000 100%) 2.6598\n"
     ]
    },
    {
     "data": {
      "text/plain": [
       "<Figure size 432x288 with 0 Axes>"
      ]
     },
     "metadata": {},
     "output_type": "display_data"
    },
    {
     "data": {
      "image/png": "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\n",
      "text/plain": [
       "<Figure size 432x288 with 1 Axes>"
      ]
     },
     "metadata": {},
     "output_type": "display_data"
    }
   ],
   "source": [
    "#hidden_size = 256\n",
    "#encoder1 = EncoderRNN(input_lang.n_words, hidden_size).to(device)\n",
    "#attn_decoder1 = AttnDecoderRNN(hidden_size, output_lang.n_words, dropout_p=0.1).to(device)\n",
    "\n",
    "plot_losses = trainIters(encoder1, attn_decoder1, 75000, print_every=5000)"
   ]
  },
  {
   "cell_type": "code",
   "execution_count": 59,
   "metadata": {},
   "outputs": [
    {
     "data": {
      "text/plain": [
       "<Figure size 432x288 with 0 Axes>"
      ]
     },
     "metadata": {},
     "output_type": "display_data"
    },
    {
     "data": {
      "image/png": "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\n",
      "text/plain": [
       "<Figure size 432x288 with 1 Axes>"
      ]
     },
     "metadata": {},
     "output_type": "display_data"
    }
   ],
   "source": [
    "showPlot(plot_losses)"
   ]
  },
  {
   "cell_type": "code",
   "execution_count": 60,
   "metadata": {
    "collapsed": true
   },
   "outputs": [
    {
     "name": "stdout",
     "output_type": "stream",
     "text": [
      "> i want to speak with tom .\n",
      "= eu quero falar com o tom .\n",
      "< quero com tom quer falar . <EOS>\n",
      "\n",
      "> at which university are you studying ?\n",
      "= em qual universidade voce esta estudando ?\n",
      "< o que esta estudando ? ? ? ? <EOS>\n",
      "\n",
      "> why didn t i think of this myself ?\n",
      "= por que eu mesmo nao pensei nisto ?\n",
      "< eu que que nao e ? <EOS>\n",
      "\n",
      "> this is my younger brother .\n",
      "= este e o meu irmao mais novo .\n",
      "< e e a novo novo novo . <EOS>\n",
      "\n",
      "> tom was an accountant .\n",
      "= tom era contador .\n",
      "< tom estava . <EOS>\n",
      "\n",
      "> my mother finally approved of our plan .\n",
      "= minha mae finalmente aprovou nosso plano .\n",
      "< o meu mae e a nossa . <EOS>\n",
      "\n",
      "> the woman hugged the baby .\n",
      "= a mulher abracou o bebe .\n",
      "< a mulher mulher mulher . <EOS>\n",
      "\n",
      "> tell tom i m innocent .\n",
      "= diga a tom que eu sou inocente .\n",
      "< diga diga o tom e . <EOS>\n",
      "\n",
      "> we pay tom well .\n",
      "= nos pagamos tom bem .\n",
      "< tom nos . . . <EOS>\n",
      "\n",
      "> tom said he s innocent .\n",
      "= o tom disse que ele e inocente .\n",
      "< tom disse que e e . <EOS>\n",
      "\n"
     ]
    }
   ],
   "source": [
    "evaluateRandomly(encoder1, attn_decoder1)"
   ]
  },
  {
   "cell_type": "code",
   "execution_count": null,
   "metadata": {
    "collapsed": true
   },
   "outputs": [],
   "source": []
  },
  {
   "cell_type": "code",
   "execution_count": 54,
   "metadata": {
    "collapsed": true
   },
   "outputs": [],
   "source": [
    "import os\n",
    "\n",
    "iteration=1001\n",
    "torch.save({'iteration': iteration,\n",
    "            'en': encoder1.state_dict(),\n",
    "            'de': attn_decoder1.state_dict(),\n",
    "            'in_dict': input_lang.__dict__,\n",
    "            'out_dict': output_lang.__dict__,\n",
    "            }, os.path.join( '../out'  , '{}_{}.tar'.format(iteration, 'checkpoint')))\n"
   ]
  },
  {
   "cell_type": "code",
   "execution_count": null,
   "metadata": {
    "collapsed": true
   },
   "outputs": [],
   "source": []
  },
  {
   "cell_type": "code",
   "execution_count": null,
   "metadata": {
    "collapsed": true
   },
   "outputs": [],
   "source": []
  }
 ],
 "metadata": {
  "kernelspec": {
   "display_name": "Python 3",
   "language": "python",
   "name": "python3"
  },
  "language_info": {
   "codemirror_mode": {
    "name": "ipython",
    "version": 3
   },
   "file_extension": ".py",
   "mimetype": "text/x-python",
   "name": "python",
   "nbconvert_exporter": "python",
   "pygments_lexer": "ipython3",
<<<<<<< HEAD
   "version": "3.5.5"
=======
   "version": "3.6.6"
>>>>>>> c21acb6aa6617ae463d5a3960c221ba114356015
  }
 },
 "nbformat": 4,
 "nbformat_minor": 2
}
