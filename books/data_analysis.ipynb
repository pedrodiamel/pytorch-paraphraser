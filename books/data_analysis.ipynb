{
 "cells": [
  {
   "cell_type": "code",
   "execution_count": 100,
   "metadata": {
    "collapsed": true
   },
   "outputs": [],
   "source": [
    "import os\n",
    "import sys\n",
    "import numpy as np\n",
    "import pandas as pd\n",
    "\n",
    "import matplotlib.pyplot as plt\n",
    "\n",
    "%matplotlib inline"
   ]
  },
  {
   "cell_type": "markdown",
   "metadata": {},
   "source": [
    "## read command datsets"
   ]
  },
  {
   "cell_type": "code",
   "execution_count": 107,
   "metadata": {
    "collapsed": true
   },
   "outputs": [
    {
     "data": {
      "text/html": [
       "<div>\n",
       "<style scoped>\n",
       "    .dataframe tbody tr th:only-of-type {\n",
       "        vertical-align: middle;\n",
       "    }\n",
       "\n",
       "    .dataframe tbody tr th {\n",
       "        vertical-align: top;\n",
       "    }\n",
       "\n",
       "    .dataframe thead th {\n",
       "        text-align: right;\n",
       "    }\n",
       "</style>\n",
       "<table border=\"1\" class=\"dataframe\">\n",
       "  <thead>\n",
       "    <tr style=\"text-align: right;\">\n",
       "      <th></th>\n",
       "      <th>Command</th>\n",
       "      <th>Domain</th>\n",
       "      <th>Index_domain</th>\n",
       "      <th>Index_subset</th>\n",
       "      <th>Subset</th>\n",
       "    </tr>\n",
       "  </thead>\n",
       "  <tbody>\n",
       "    <tr>\n",
       "      <th>0</th>\n",
       "      <td>disable Wifi</td>\n",
       "      <td>@wifi:</td>\n",
       "      <td>1</td>\n",
       "      <td>1</td>\n",
       "      <td>$m_disable:</td>\n",
       "    </tr>\n",
       "    <tr>\n",
       "      <th>1</th>\n",
       "      <td>turn off Wifi</td>\n",
       "      <td>@wifi:</td>\n",
       "      <td>1</td>\n",
       "      <td>1</td>\n",
       "      <td>$m_disable:</td>\n",
       "    </tr>\n",
       "    <tr>\n",
       "      <th>2</th>\n",
       "      <td>stop Wifi</td>\n",
       "      <td>@wifi:</td>\n",
       "      <td>1</td>\n",
       "      <td>1</td>\n",
       "      <td>$m_disable:</td>\n",
       "    </tr>\n",
       "    <tr>\n",
       "      <th>3</th>\n",
       "      <td>Wifi off</td>\n",
       "      <td>@wifi:</td>\n",
       "      <td>1</td>\n",
       "      <td>1</td>\n",
       "      <td>$m_disable:</td>\n",
       "    </tr>\n",
       "    <tr>\n",
       "      <th>4</th>\n",
       "      <td>turn off the Wifi</td>\n",
       "      <td>@wifi:</td>\n",
       "      <td>1</td>\n",
       "      <td>1</td>\n",
       "      <td>$m_disable:</td>\n",
       "    </tr>\n",
       "  </tbody>\n",
       "</table>\n",
       "</div>"
      ],
      "text/plain": [
       "             Command  Domain  Index_domain  Index_subset       Subset\n",
       "0       disable Wifi  @wifi:             1             1  $m_disable:\n",
       "1      turn off Wifi  @wifi:             1             1  $m_disable:\n",
       "2          stop Wifi  @wifi:             1             1  $m_disable:\n",
       "3           Wifi off  @wifi:             1             1  $m_disable:\n",
       "4  turn off the Wifi  @wifi:             1             1  $m_disable:"
      ]
     },
     "execution_count": 107,
     "metadata": {},
     "output_type": "execute_result"
    }
   ],
   "source": [
    "\n",
    "cmds = pd.read_csv( os.path.expanduser( '~/.datasets/txt/commands.csv') )\n",
    "cmds.head()\n"
   ]
  },
  {
   "cell_type": "code",
   "execution_count": 110,
   "metadata": {
    "collapsed": false
   },
   "outputs": [
    {
     "name": "stdout",
     "output_type": "stream",
     "text": [
      "[ 1  2  3  4  5  6  7  8  9 10 11 12 13 14 15 16 17 18 19 20 21 22 23 24\n",
      " 25 26 27 28 29 30 31 32 33 34 35 36 37 38 39 40 41 42 43 44 45 46 47 48]\n",
      "[11 11 82 60  9 10  8  9  6  6 25  7 28 20  9 18 14 17 12 11 10  8  8 15\n",
      " 14  8  9 18  4  4  6 10 29  9  7  7  7  7 13 12 21 12 13  1  2 16  9  5]\n"
     ]
    },
    {
     "data": {
      "image/png": "[encoded data removed]",
      "text/plain": [
       "<Figure size 432x288 with 1 Axes>"
      ]
     },
     "metadata": {},
     "output_type": "display_data"
    }
   ],
   "source": [
    "classes, phrases = cmds['Index_subset'], cmds['Command'] \n",
    "C,F = np.unique( classes, return_counts=True)\n",
    "cls2inx = { c:i for i,c in enumerate( C ) }\n",
    "\n",
    "print(C)\n",
    "print(F)\n",
    "\n",
    "# An \"interface\" to matplotlib.axes.Axes.hist() method\n",
    "n, bins, patches = plt.hist(x=F, bins='auto', color='#0504aa',\n",
    "                            alpha=0.7, rwidth=0.85)\n",
    "\n"
   ]
  },
  {
   "cell_type": "code",
   "execution_count": 111,
   "metadata": {
    "collapsed": true
   },
   "outputs": [],
   "source": [
    "\n",
    "filepath= os.path.expanduser( '~/.datasets/txt/dbcommand.csv' )\n",
    "db = [ { 'phrases':w, 'classes':c} for c,w in zip( classes, phrases ) if F[ cls2inx[c] ] > 1  ]\n",
    "db = pd.DataFrame( db )\n",
    "db.to_csv(filepath, index=False, encoding='utf-8')\n"
   ]
  },
  {
   "cell_type": "code",
   "execution_count": null,
   "metadata": {
    "collapsed": false
   },
   "outputs": [],
   "source": []
  },
  {
   "cell_type": "code",
   "execution_count": 118,
   "metadata": {
    "collapsed": true
   },
   "outputs": [
    {
     "name": "stdout",
     "output_type": "stream",
     "text": [
      "Save command pairs ...\n",
      "('call up', 'make a call to')\n",
      "531\n"
     ]
    }
   ],
   "source": [
    "import random \n",
    "\n",
    "def get_pairs( dataset, n=5 ):\n",
    "    \n",
    "    pairs = [] \n",
    "    classes, phrases = dataset[:,0], dataset[:,1]\n",
    "    C,F = np.unique( classes, return_counts=True )\n",
    "        \n",
    "    for c,f in zip(C,F):         \n",
    "        # a, b   \n",
    "        a = np.array( np.random.choice( np.where(classes==c)[0], min(f,n), replace=False ))\n",
    "        b = np.array( np.random.choice( np.where(classes==c)[0], min(f,n), replace=False ))\n",
    "        #while np.any((a-b)==0): #aligning check\n",
    "        while np.sum((a-b) == 0 )/b.shape[0] > 0.1: #aligning check\n",
    "            random.shuffle(b) \n",
    "        pairs += zip(phrases[a],phrases[b])\n",
    "        #print(c, a,b)\n",
    "    \n",
    "    random.shuffle(pairs)\n",
    "    return pairs\n",
    "    \n",
    "    \n",
    "filepath = os.path.expanduser( '~/.datasets/txt/commandpairs.txt' )\n",
    "db = pd.read_csv( '~/.datasets/txt/dbcommand.csv' )\n",
    "db = db.values\n",
    "\n",
    "pairs = get_pairs(db, n=20)\n",
    "with open(filepath, \"w\") as f:\n",
    "    for pair in pairs:\n",
    "        f.write( '{}\\t{}\\n'.format( pair[0], pair[1] ) ) \n",
    "\n",
    "print('Save command pairs ...')\n",
    "print( pairs[0] )\n",
    "print( len(pairs) )\n"
   ]
  },
  {
   "cell_type": "code",
   "execution_count": null,
   "metadata": {
    "collapsed": true
   },
   "outputs": [],
   "source": []
  },
  {
   "cell_type": "code",
   "execution_count": null,
   "metadata": {
    "collapsed": true
   },
   "outputs": [],
   "source": []
  },
  {
   "cell_type": "code",
   "execution_count": null,
   "metadata": {
    "collapsed": true
   },
   "outputs": [],
   "source": []
  },
  {
   "cell_type": "code",
   "execution_count": null,
   "metadata": {},
   "outputs": [],
   "source": []
  },
  {
   "cell_type": "code",
   "execution_count": null,
   "metadata": {},
   "outputs": [],
   "source": []
  },
  {
   "cell_type": "code",
   "execution_count": null,
   "metadata": {},
   "outputs": [],
   "source": []
  }
 ],
 "metadata": {
  "kernelspec": {
   "display_name": "Python [conda env:anaconda3]",
   "language": "python",
   "name": "conda-env-anaconda3-py"
  },
  "language_info": {
   "codemirror_mode": {
    "name": "ipython",
    "version": 3
   },
   "file_extension": ".py",
   "mimetype": "text/x-python",
   "name": "python",
   "nbconvert_exporter": "python",
   "pygments_lexer": "ipython3",
   "version": "3.5.5"
  }
 },
 "nbformat": 4,
 "nbformat_minor": 2
}
