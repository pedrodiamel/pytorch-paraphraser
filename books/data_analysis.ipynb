{
 "cells": [
  {
   "cell_type": "code",
   "execution_count": null,
   "metadata": {
    "collapsed": true
   },
   "outputs": [],
   "source": []
  },
  {
   "cell_type": "code",
   "execution_count": 1,
   "metadata": {
    "collapsed": true
   },
   "outputs": [],
   "source": [
    "import numpy as np\n",
    "import pandas as pd\n",
    "\n",
    "%matplotlib inline"
   ]
  },
  {
   "cell_type": "code",
   "execution_count": null,
   "metadata": {
    "collapsed": true
   },
   "outputs": [],
   "source": []
  },
  {
   "cell_type": "code",
   "execution_count": 3,
   "metadata": {
    "collapsed": false
   },
   "outputs": [
    {
     "name": "stdout",
     "output_type": "stream",
     "text": [
      "                 Eng                 Por\n",
      "0       disable Wifi  desabilitar o Wifi\n",
      "1      turn off Wifi     desligar o Wifi\n",
      "2          stop Wifi        pare o wi-fi\n",
      "3           Wifi off    Wi-Fi desativado\n",
      "4  turn off the Wifi    desligue o Wi-Fi\n"
     ]
    }
   ],
   "source": [
    "df = pd.read_csv( '../rec/data/commands.csv' )\n",
    "print(df.head())"
   ]
  },
  {
   "cell_type": "code",
   "execution_count": null,
   "metadata": {
    "collapsed": true
   },
   "outputs": [],
   "source": [
    "# Turn a Unicode string to plain ASCII, thanks to\n",
    "# http://stackoverflow.com/a/518232/2809427\n",
    "def unicodeToAscii(s):\n",
    "    return ''.join(\n",
    "        c for c in unicodedata.normalize('NFD', s)\n",
    "        if unicodedata.category(c) != 'Mn'\n",
    "    )\n",
    "\n",
    "# Lowercase, trim, and remove non-letter characters\n",
    "\n",
    "def normalizeString(s):\n",
    "    s = unicodeToAscii(s.lower().strip())\n",
    "    s = re.sub(r\"([.!?])\", r\" \\1\", s)\n",
    "    s = re.sub(r\"[^a-zA-Z.!?]+\", r\" \", s)\n",
    "    return s"
   ]
  },
  {
   "cell_type": "code",
   "execution_count": 9,
   "metadata": {
    "collapsed": false
   },
   "outputs": [
    {
     "name": "stdout",
     "output_type": "stream",
     "text": [
      "Append commands data eng to por ...\n",
      "Done!!!\n"
     ]
    }
   ],
   "source": [
    "\n",
    "def parser( data ):\n",
    "    \n",
    "    lang_eng = data['Eng']\n",
    "    lang_por = data['Por']\n",
    "   \n",
    "    print('Create commands data eng to por ...')\n",
    "    with open('../rec/data/cmds-eng-por.txt', 'w') as f: \n",
    "        for eng, por in zip( lang_eng, lang_por ) :\n",
    "            #print(eng, ' \\t ' , por)\n",
    "            f.write( '{}.\\t{}.\\n'.format(eng, por) ) \n",
    "    print('Done!!!')\n",
    "    \n",
    "    \n",
    "def appened( data ):\n",
    "\n",
    "    lang_eng = data['Eng']\n",
    "    lang_por = data['Por']\n",
    "\n",
    "    print('Append commands data eng to por ...')\n",
    "    with open('../rec/data/eng-por.txt', 'a') as f: \n",
    "        for eng, por in zip( lang_eng, lang_por ) :\n",
    "            #print(eng, ' \\t ' , por)\n",
    "            f.write( '{}.\\t{}.\\n'.format(eng, por) ) \n",
    "    print('Done!!!')\n",
    "    \n",
    "# parser( df )    \n",
    "appened( df ) \n",
    "    "
   ]
  },
  {
   "cell_type": "code",
   "execution_count": null,
   "metadata": {
    "collapsed": true
   },
   "outputs": [],
   "source": []
  },
  {
   "cell_type": "code",
   "execution_count": null,
   "metadata": {
    "collapsed": true
   },
   "outputs": [],
   "source": []
  },
  {
   "cell_type": "code",
   "execution_count": null,
   "metadata": {
    "collapsed": true
   },
   "outputs": [],
   "source": []
  },
  {
   "cell_type": "code",
   "execution_count": null,
   "metadata": {
    "collapsed": true
   },
   "outputs": [],
   "source": []
  }
 ],
 "metadata": {
  "kernelspec": {
   "display_name": "Python [conda env:anaconda3]",
   "language": "python",
   "name": "conda-env-anaconda3-py"
  },
  "language_info": {
   "codemirror_mode": {
    "name": "ipython",
    "version": 3
   },
   "file_extension": ".py",
   "mimetype": "text/x-python",
   "name": "python",
   "nbconvert_exporter": "python",
   "pygments_lexer": "ipython3",
   "version": "3.5.4"
  }
 },
 "nbformat": 4,
 "nbformat_minor": 2
}
